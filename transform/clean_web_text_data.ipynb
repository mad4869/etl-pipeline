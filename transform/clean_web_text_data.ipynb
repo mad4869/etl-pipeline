{
 "cells": [
  {
   "cell_type": "code",
   "execution_count": null,
   "metadata": {},
   "outputs": [],
   "source": [
    "import re\n",
    "import pandas as pd"
   ]
  },
  {
   "cell_type": "markdown",
   "metadata": {},
   "source": [
    "# Convert the Data from a CSV File into Dataframe"
   ]
  },
  {
   "cell_type": "code",
   "execution_count": null,
   "metadata": {},
   "outputs": [],
   "source": [
    "web_text_data = pd.read_csv('../data/raw/web_text_data.csv')"
   ]
  },
  {
   "cell_type": "markdown",
   "metadata": {},
   "source": [
    "# Clean the Name of Authors"
   ]
  },
  {
   "cell_type": "code",
   "execution_count": null,
   "metadata": {},
   "outputs": [],
   "source": [
    "web_text_data['author'] = web_text_data['author'].str.replace(\" - detikInet\", \"\")"
   ]
  },
  {
   "cell_type": "markdown",
   "metadata": {},
   "source": [
    "# Clean the Title and the Body"
   ]
  },
  {
   "cell_type": "code",
   "execution_count": null,
   "metadata": {},
   "outputs": [],
   "source": [
    "web_text_data['title'] = web_text_data['title'].str.strip()\n",
    "web_text_data['body'] = web_text_data['body'].str.strip()"
   ]
  },
  {
   "cell_type": "code",
   "execution_count": null,
   "metadata": {},
   "outputs": [],
   "source": [
    "# create a function to clean the acquired text\n",
    "def cleaning_text(text: str):\n",
    "    # remove whitespace\n",
    "    text_wo_whitespace = re.sub(r\"\\s+\", \" \", text)\n",
    "    # add space after period\n",
    "    proper_sentences = re.sub(r\"\\.([a-zA-Z]+)\\b\", r\". \\1\", text_wo_whitespace)\n",
    "    # split paragraph into sentences\n",
    "    sentences = proper_sentences.split(\". \")\n",
    "    # filter irrelevant sentences\n",
    "    filtered_sentences = filter(\n",
    "        lambda sentence: \"ADVERTISEMENT\" not in sentence\n",
    "        and \"Baca juga:\" not in sentence\n",
    "        and \"Simak Video\" not in sentence,\n",
    "        sentences,\n",
    "    )\n",
    "    # join the sentences back into a full text\n",
    "    cleaned_text = \". \".join(filtered_sentences)\n",
    "\n",
    "    return cleaned_text"
   ]
  },
  {
   "cell_type": "code",
   "execution_count": null,
   "metadata": {},
   "outputs": [],
   "source": [
    "web_text_data['body'] = web_text_data['body'].apply(cleaning_text)"
   ]
  }
 ],
 "metadata": {
  "kernelspec": {
   "display_name": "etl-venv",
   "language": "python",
   "name": "python3"
  },
  "language_info": {
   "codemirror_mode": {
    "name": "ipython",
    "version": 3
   },
   "file_extension": ".py",
   "mimetype": "text/x-python",
   "name": "python",
   "nbconvert_exporter": "python",
   "pygments_lexer": "ipython3",
   "version": "3.11.3"
  }
 },
 "nbformat": 4,
 "nbformat_minor": 2
}
