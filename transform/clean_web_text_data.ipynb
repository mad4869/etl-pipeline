{
 "cells": [
  {
   "cell_type": "code",
   "execution_count": null,
   "metadata": {},
   "outputs": [],
   "source": [
    "\"\".text.replace(\" - detikInet\", \"\")"
   ]
  },
  {
   "cell_type": "code",
   "execution_count": null,
   "metadata": {},
   "outputs": [],
   "source": [
    "# create a function to clean the acquired text\n",
    "def cleaning_text(text: str):\n",
    "    # remove whitespace\n",
    "    text_wo_whitespace = re.sub(r\"\\s+\", \" \", text)\n",
    "    # add space after period\n",
    "    proper_sentences = re.sub(r\"\\.([a-zA-Z]+)\\b\", r\". \\1\", text_wo_whitespace)\n",
    "    # split paragraph into sentences\n",
    "    sentences = proper_sentences.split(\". \")\n",
    "    # filter irrelevant sentences\n",
    "    filtered_sentences = filter(\n",
    "        lambda sentence: \"ADVERTISEMENT\" not in sentence\n",
    "        and \"Baca juga:\" not in sentence\n",
    "        and \"Simak Video\" not in sentence,\n",
    "        sentences,\n",
    "    )\n",
    "    # join the sentences back into a full text\n",
    "    cleaned_text = \". \".join(filtered_sentences)\n",
    "\n",
    "    return cleaned_text"
   ]
  }
 ],
 "metadata": {
  "language_info": {
   "name": "python"
  }
 },
 "nbformat": 4,
 "nbformat_minor": 2
}
