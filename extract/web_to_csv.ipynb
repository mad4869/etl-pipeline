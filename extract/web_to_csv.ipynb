{
 "cells": [
  {
   "cell_type": "code",
   "execution_count": null,
   "metadata": {},
   "outputs": [],
   "source": [
    "import requests\n",
    "import pandas as pd\n",
    "from bs4 import BeautifulSoup"
   ]
  },
  {
   "cell_type": "markdown",
   "metadata": {},
   "source": [
    "# Determine a Web Page in which the Scraping Will Take Place"
   ]
  },
  {
   "cell_type": "code",
   "execution_count": null,
   "metadata": {},
   "outputs": [],
   "source": [
    "URL = \"https://inet.detik.com/indeks\"\n",
    "\n",
    "full_data = []"
   ]
  },
  {
   "cell_type": "markdown",
   "metadata": {},
   "source": [
    "# Scraping the Data"
   ]
  },
  {
   "cell_type": "code",
   "execution_count": null,
   "metadata": {},
   "outputs": [],
   "source": [
    "for page in range(1, 251):\n",
    "    resp = requests.get(f\"{URL}/{page}\")\n",
    "    if resp.status_code == 200:\n",
    "        soup = BeautifulSoup(resp.text, \"html.parser\")\n",
    "\n",
    "        # get all the articles\n",
    "        medias = soup.find_all(\"div\", class_=\"media\")\n",
    "\n",
    "        for media in medias:\n",
    "            # get the article's link\n",
    "            link = media.find(\"a\", class_=\"media__link\")\n",
    "            href = link.get(\"href\")\n",
    "\n",
    "            # filter out videos and pictures articles\n",
    "            if \"20.detik.com\" not in href and \"fotoinet\" not in href:\n",
    "                content = requests.get(href)\n",
    "                content_soup = BeautifulSoup(content.text, \"html.parser\")\n",
    "                content_detail = content_soup.find(\"article\", class_=\"detail\")\n",
    "\n",
    "                if content_detail:\n",
    "                    content_title = (\n",
    "                        content_detail.find(\"h1\", class_=\"detail__title\").text or None\n",
    "                    )\n",
    "                    content_author = (\n",
    "                        content_detail.find(\"div\", class_=\"detail__author\").text or None\n",
    "                    )\n",
    "                    content_date = (\n",
    "                        content_detail.find(\"div\", class_=\"detail__date\").text or None\n",
    "                    )\n",
    "\n",
    "                    content_body = (\n",
    "                        content_detail.find(\"div\", class_=\"detail__body\").text or None\n",
    "                    )\n",
    "\n",
    "                    content_data = {\n",
    "                        \"title\": content_title,\n",
    "                        \"author\": content_author,\n",
    "                        \"date\": content_date,\n",
    "                        \"body\": content_body,\n",
    "                    }\n",
    "\n",
    "                    full_data.append(content_data)"
   ]
  },
  {
   "cell_type": "markdown",
   "metadata": {},
   "source": [
    "# Convert the Data into a Dataframe"
   ]
  },
  {
   "cell_type": "code",
   "execution_count": null,
   "metadata": {},
   "outputs": [],
   "source": [
    "df = pd.DataFrame(full_data)"
   ]
  },
  {
   "cell_type": "markdown",
   "metadata": {},
   "source": [
    "# Load the Data into a CSV File"
   ]
  },
  {
   "cell_type": "code",
   "execution_count": null,
   "metadata": {},
   "outputs": [],
   "source": [
    "df.to_csv(\"../data/raw/web_text_data.csv\", index=False)"
   ]
  }
 ],
 "metadata": {
  "kernelspec": {
   "display_name": "etl-venv",
   "language": "python",
   "name": "python3"
  },
  "language_info": {
   "codemirror_mode": {
    "name": "ipython",
    "version": 3
   },
   "file_extension": ".py",
   "mimetype": "text/x-python",
   "name": "python",
   "nbconvert_exporter": "python",
   "pygments_lexer": "ipython3",
   "version": "3.11.3"
  }
 },
 "nbformat": 4,
 "nbformat_minor": 2
}
