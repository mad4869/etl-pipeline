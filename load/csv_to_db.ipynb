{
 "cells": [
  {
   "cell_type": "code",
   "execution_count": null,
   "metadata": {},
   "outputs": [],
   "source": [
    "import pandas as pd\n",
    "import psycopg2\n",
    "import os\n",
    "from dotenv import load_dotenv"
   ]
  },
  {
   "cell_type": "markdown",
   "metadata": {},
   "source": [
    "# Get Database Data for Connection"
   ]
  },
  {
   "cell_type": "code",
   "execution_count": null,
   "metadata": {},
   "outputs": [],
   "source": [
    "load_dotenv()\n",
    "\n",
    "LOCAL_DB_NAME = os.getenv(\"LOCAL_DB_NAME\")\n",
    "LOCAL_DB_USER = os.getenv(\"LOCAL_DB_USER\")\n",
    "LOCAL_DB_PASSWORD = os.getenv(\"LOCAL_DB_PASSWORD\")\n",
    "LOCAL_DB_HOST = os.getenv(\"LOCAL_DB_HOST\")\n",
    "LOCAL_DB_PORT = os.getenv(\"LOCAL_DB_PORT\")"
   ]
  },
  {
   "cell_type": "markdown",
   "metadata": {},
   "source": [
    "# Create a Connection using the Database Data"
   ]
  },
  {
   "cell_type": "code",
   "execution_count": null,
   "metadata": {},
   "outputs": [],
   "source": [
    "conn = psycopg2.connect(\n",
    "    dbname=LOCAL_DB_NAME,\n",
    "    user=LOCAL_DB_USER,\n",
    "    password=LOCAL_DB_PASSWORD,\n",
    "    host=LOCAL_DB_HOST,\n",
    "    port=LOCAL_DB_PORT\n",
    ")"
   ]
  },
  {
   "cell_type": "markdown",
   "metadata": {},
   "source": [
    "# Convert the Data from a CSV File into Dataframe"
   ]
  },
  {
   "cell_type": "code",
   "execution_count": null,
   "metadata": {},
   "outputs": [],
   "source": [
    "products_data = pd.read_csv('../data/raw/products_data.csv')\n",
    "sales_data = pd.read_csv('../data/raw/sales_data.csv')\n",
    "web_text_data = pd.read_csv('../data/raw/web_text_data.csv')"
   ]
  },
  {
   "cell_type": "markdown",
   "metadata": {},
   "source": [
    "# Load the Data to Database"
   ]
  },
  {
   "cell_type": "code",
   "execution_count": null,
   "metadata": {},
   "outputs": [],
   "source": [
    "products_data.to_sql(name = 'products', con = conn, if_exists = \"append\", index = False)\n",
    "sales_data.to_sql(name = 'sales', con = conn, if_exists = \"append\", index = False)\n",
    "web_text_data.to_sql(name = 'web_text', con = conn, if_exists = \"append\", index = False)\n",
    "\n",
    "conn.close()"
   ]
  },
  {
   "cell_type": "markdown",
   "metadata": {},
   "source": [
    "# Load the Data to a New CSV File"
   ]
  },
  {
   "cell_type": "code",
   "execution_count": null,
   "metadata": {},
   "outputs": [],
   "source": [
    "products_data.to_csv('../data/loaded/products_data.csv', index=False)\n",
    "sales_data.to_csv('../data/loaded/sales_data.csv', index=False)\n",
    "web_text_data.to_csv('../data/loaded/web_text_data.csv', index=False)"
   ]
  }
 ],
 "metadata": {
  "kernelspec": {
   "display_name": "etl-venv",
   "language": "python",
   "name": "python3"
  },
  "language_info": {
   "codemirror_mode": {
    "name": "ipython",
    "version": 3
   },
   "file_extension": ".py",
   "mimetype": "text/x-python",
   "name": "python",
   "nbconvert_exporter": "python",
   "pygments_lexer": "ipython3",
   "version": "3.11.3"
  }
 },
 "nbformat": 4,
 "nbformat_minor": 2
}
