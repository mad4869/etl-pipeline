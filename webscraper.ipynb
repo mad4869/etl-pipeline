{
 "cells": [
  {
   "cell_type": "code",
   "execution_count": null,
   "metadata": {},
   "outputs": [],
   "source": [
    "import requests\n",
    "from bs4 import BeautifulSoup\n",
    "import pandas as pd\n",
    "import re"
   ]
  },
  {
   "cell_type": "code",
   "execution_count": null,
   "metadata": {},
   "outputs": [],
   "source": [
    "# create a function to clean the acquired text\n",
    "def cleaning_text(text: str):\n",
    "    # remove whitespace\n",
    "    text_wo_whitespace = re.sub(r'\\s+', ' ', text)\n",
    "    # add space after period\n",
    "    proper_sentences = re.sub(r'\\.([a-zA-Z]+)\\b', r'. \\1', text_wo_whitespace)\n",
    "    # split paragraph into sentences\n",
    "    sentences = proper_sentences.split('. ')\n",
    "    # filter irrelevant sentences\n",
    "    filtered_sentences = filter(\n",
    "        lambda sentence: \"ADVERTISEMENT\" not in sentence and \"Baca juga:\" not in sentence and \"Simak Video\" not in sentence, sentences\n",
    "    )\n",
    "    # join the sentences back into a full text\n",
    "    cleaned_text = '. '.join(filtered_sentences)\n",
    "\n",
    "    return cleaned_text"
   ]
  },
  {
   "cell_type": "code",
   "execution_count": null,
   "metadata": {},
   "outputs": [],
   "source": [
    "URL = \"https://inet.detik.com/indeks\"\n",
    "\n",
    "full_data = []\n",
    "\n",
    "for page in range(1, 251):\n",
    "    resp = requests.get(f'{URL}/{page}')\n",
    "    if resp.status_code == 200:\n",
    "        soup = BeautifulSoup(resp.text, 'html.parser')\n",
    "\n",
    "        # get all the articles\n",
    "        medias = soup.find_all('div', class_='media')\n",
    "\n",
    "        for media in medias:\n",
    "            # get the article's link\n",
    "            link = media.find('a', class_='media__link')\n",
    "            href = link.get('href')\n",
    "\n",
    "            # filter out videos and pictures articles\n",
    "            if \"20.detik.com\" not in href and 'fotoinet' not in href:\n",
    "                content = requests.get(href)\n",
    "                content_soup = BeautifulSoup(content.text, 'html.parser')\n",
    "                content_detail = content_soup.find('article', class_='detail')\n",
    "\n",
    "                if content_detail:\n",
    "                    content_title = content_detail.find('h1', class_='detail__title').text.strip() or None\n",
    "                    content_author = content_detail.find('div', class_='detail__author').text.replace(' - detikInet', '') or None\n",
    "                    content_date = content_detail.find('div', class_= 'detail__date').text or None\n",
    "                    \n",
    "                    content_body = content_detail.find('div', class_='detail__body').text.strip() or None\n",
    "                    cleaned_content_body = None\n",
    "                    if content_body:\n",
    "                        cleaned_content_body = cleaning_text(content_body)\n",
    "\n",
    "                    content_data = {\n",
    "                        'title': content_title,\n",
    "                        'author': content_author,\n",
    "                        'date': content_date,\n",
    "                        'body': cleaned_content_body\n",
    "                    }\n",
    "\n",
    "                    full_data.append(content_data)"
   ]
  },
  {
   "cell_type": "code",
   "execution_count": null,
   "metadata": {},
   "outputs": [],
   "source": [
    "# turn the acquired data into a Data Frame object\n",
    "full_data_df = pd.DataFrame(full_data)"
   ]
  },
  {
   "cell_type": "code",
   "execution_count": null,
   "metadata": {},
   "outputs": [],
   "source": [
    "# export Data Frame into a CSV file\n",
    "full_data_df.to_csv('data/detik_inet.csv', index=False)"
   ]
  }
 ],
 "metadata": {
  "kernelspec": {
   "display_name": "etl-venv",
   "language": "python",
   "name": "python3"
  },
  "language_info": {
   "codemirror_mode": {
    "name": "ipython",
    "version": 3
   },
   "file_extension": ".py",
   "mimetype": "text/x-python",
   "name": "python",
   "nbconvert_exporter": "python",
   "pygments_lexer": "ipython3",
   "version": "3.11.3"
  }
 },
 "nbformat": 4,
 "nbformat_minor": 2
}
